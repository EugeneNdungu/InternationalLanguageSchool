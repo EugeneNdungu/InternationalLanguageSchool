{
 "cells": [
  {
   "cell_type": "code",
   "execution_count": 6,
   "id": "c4649d7e",
   "metadata": {},
   "outputs": [
    {
     "data": {
      "text/plain": [
       "'\\nThe program below is a tutorial program used to learn how to connect python with SQL.\\nIt is based on work done by:\\n    Craig Dickson< https://www.freecodecamp.org/news/connect-python-with-sql/ >\\n'"
      ]
     },
     "execution_count": 6,
     "metadata": {},
     "output_type": "execute_result"
    }
   ],
   "source": [
    "\"\"\"\n",
    "The program below is a tutorial program used to learn how to connect python with SQL.\n",
    "It is based on work done by:\n",
    "    Craig Dickson< https://www.freecodecamp.org/news/connect-python-with-sql/ >\n",
    "\"\"\""
   ]
  },
  {
   "cell_type": "code",
   "execution_count": 10,
   "id": "d95863a5",
   "metadata": {},
   "outputs": [
    {
     "name": "stdout",
     "output_type": "stream",
     "text": [
      "MySQL Database connection successful\n"
     ]
    }
   ],
   "source": [
    "# 1. Connecting to MySQL Server\n",
    "import mysql.connector # Python library used to connect the script to our MySQL server\n",
    "from mysql.connector import Error # Provides easy access to the error function\n",
    "import pandas as pd # Python library used for data analysis\n",
    "\n",
    "def create_server_connection(host_name, user_name, user_password):\n",
    "    \"\"\"\n",
    "    This function lets us establish a connection to our server\n",
    "    \"\"\"\n",
    "    connection = None # Closes any existing connections so that the sever doesn't become confused with multiple open connections\n",
    "    try:\n",
    "        connection = mysql.connector.connect(\n",
    "            host = host_name,\n",
    "            user=user_name,\n",
    "            passwd=user_password\n",
    "        )\n",
    "        print(\"MySQL Database connection successful\")\n",
    "    except Error as err:\n",
    "        print(f\"Error: '{err}'\")\n",
    "    return connection\n",
    "pw = \"#Cheng0469\"\n",
    "connection = create_server_connection(\"localhost\",\"root\", pw)"
   ]
  },
  {
   "cell_type": "code",
   "execution_count": 3,
   "id": "4856e088",
   "metadata": {},
   "outputs": [
    {
     "ename": "NameError",
     "evalue": "name 'connection' is not defined",
     "output_type": "error",
     "traceback": [
      "\u001b[1;31m---------------------------------------------------------------------------\u001b[0m",
      "\u001b[1;31mNameError\u001b[0m                                 Traceback (most recent call last)",
      "\u001b[1;32m<ipython-input-3-a3e88bc948e8>\u001b[0m in \u001b[0;36m<module>\u001b[1;34m\u001b[0m\n\u001b[0;32m     14\u001b[0m \u001b[0mcreate_database_query\u001b[0m \u001b[1;33m=\u001b[0m \u001b[1;34m\"CREATE DATABASE school\"\u001b[0m\u001b[1;33m\u001b[0m\u001b[1;33m\u001b[0m\u001b[0m\n\u001b[0;32m     15\u001b[0m \u001b[1;31m# Create our database\u001b[0m\u001b[1;33m\u001b[0m\u001b[1;33m\u001b[0m\u001b[1;33m\u001b[0m\u001b[0m\n\u001b[1;32m---> 16\u001b[1;33m \u001b[0mcreate_database\u001b[0m\u001b[1;33m(\u001b[0m\u001b[0mconnection\u001b[0m\u001b[1;33m,\u001b[0m \u001b[0mcreate_database_query\u001b[0m\u001b[1;33m)\u001b[0m\u001b[1;33m\u001b[0m\u001b[1;33m\u001b[0m\u001b[0m\n\u001b[0m",
      "\u001b[1;31mNameError\u001b[0m: name 'connection' is not defined"
     ]
    }
   ],
   "source": [
    "# 2. Creating a New Database\n",
    "def create_database(connection, query):\n",
    "    \"\"\"\n",
    "    This function takes two arguments, a connection and a query, \n",
    "    executing the query in the server via the connection.\n",
    "    \"\"\"\n",
    "    cursor = connection.cursor()\n",
    "    try:\n",
    "        cursor.execute(query) # Executes our queries on the MySQL Server\n",
    "        print(\"Database created successfully\")\n",
    "    except Error as err:\n",
    "        print(f\"Error: '{err}'\") \n",
    "# Initialize query to create our database\n",
    "create_database_query = \"CREATE DATABASE school\"\n",
    "# Create our database\n",
    "create_database(connection, create_database_query)"
   ]
  },
  {
   "cell_type": "code",
   "execution_count": 13,
   "id": "abf3dd05",
   "metadata": {},
   "outputs": [
    {
     "name": "stdout",
     "output_type": "stream",
     "text": [
      "MySQL Database connection successful\n"
     ]
    }
   ],
   "source": [
    "# 3. Connecting to the Databse\n",
    "def create_db_connection(host_name, user_name, user_password, db_name):\n",
    "    \"\"\"\n",
    "    This function is used to connect to a specific, already created database in\n",
    "    our MySQL Server\n",
    "    \"\"\"\n",
    "    connecton = None\n",
    "    try:\n",
    "        connection = mysql.connector.connect(\n",
    "            host = host_name,\n",
    "            user = user_name,\n",
    "            passwd = user_password,\n",
    "            database = db_name\n",
    "        )\n",
    "        print(\"MySQL Database connection successful\")\n",
    "    except Error as err:\n",
    "        print(f\"Error: '{err}'\")\n",
    "    return connection\n",
    "pw = \"#Cheng0469\"\n",
    "db = \"school\"\n",
    "connection = create_db_connection(\"localhost\", \"root\", pw, db)"
   ]
  },
  {
   "cell_type": "code",
   "execution_count": 15,
   "id": "1aa7c4a6",
   "metadata": {},
   "outputs": [],
   "source": [
    "# 4. Creating  Query Execution Function\n",
    "def execute_query(connection, query):\n",
    "    \"\"\"\n",
    "    The function takes our SQL queries , stored in Python as strings, and \n",
    "    passes them to the cursor.execute() method to execute them on the server.\n",
    "    \"\"\"\n",
    "    cursor = connection.cursor()\n",
    "    try:\n",
    "        cursor.execute(query)\n",
    "        connection.commit() # Ensures that the commands detailed in our SQL queries are implemented\n",
    "        print(\"Query successful\")\n",
    "    except Error as err:\n",
    "        print(f\"Error: '{err}'\")"
   ]
  },
  {
   "cell_type": "code",
   "execution_count": 17,
   "id": "ecabecb0",
   "metadata": {},
   "outputs": [
    {
     "name": "stdout",
     "output_type": "stream",
     "text": [
      "MySQL Database connection successful\n",
      "Query successful\n"
     ]
    }
   ],
   "source": [
    "# 5. Creating Tables\n",
    "# In triple quoted strings, unescaped newlines & quotes are allowed\n",
    "create_teacher_table = \"\"\"\n",
    "CREATE TABLE teacher (\n",
    "    teacher_id INT PRIMARY KEY,\n",
    "    first_name VARCHAR(40) NOT NULL,\n",
    "    last_name VARCHAR(40) NOT NULL,\n",
    "    language_1 VARCHAR(3) NOT NULL,\n",
    "    language_2 VARCHAR(3),\n",
    "    dob DATE,\n",
    "    tax_id INT UNIQUE,\n",
    "    phone_no VARCHAR(20)\n",
    "    )\n",
    "\"\"\"\n",
    "\n",
    "connection = create_db_connection(\"localhost\", \"root\", pw, db) # Connect to the Databse\n",
    "execute_query(connection, create_teacher_table) # Execute our defined query"
   ]
  }
 ],
 "metadata": {
  "kernelspec": {
   "display_name": "Python 3",
   "language": "python",
   "name": "python3"
  },
  "language_info": {
   "codemirror_mode": {
    "name": "ipython",
    "version": 3
   },
   "file_extension": ".py",
   "mimetype": "text/x-python",
   "name": "python",
   "nbconvert_exporter": "python",
   "pygments_lexer": "ipython3",
   "version": "3.8.8"
  }
 },
 "nbformat": 4,
 "nbformat_minor": 5
}
