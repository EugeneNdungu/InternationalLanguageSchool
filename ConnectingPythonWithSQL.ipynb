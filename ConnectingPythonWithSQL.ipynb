{
 "cells": [
  {
   "cell_type": "code",
   "execution_count": null,
   "id": "3d514d25",
   "metadata": {},
   "outputs": [],
   "source": [
    "\"\"\"\n",
    "The program below is a tutorial program used to learn how to connect python with SQL.\n",
    "\"\"\"\n",
    "import mysql.connector # Python library used to connect the script to our MySQL server\n",
    "from mysql.connector import Error # Provides easy access to the error function\n",
    "import pandas as pd # Python library used for data analysis\n",
    "\n",
    "def create_server_connection(host_name, user_name, user_password):\n",
    "    \"\"\"\n",
    "    This function lets us establish a connection to our server\n",
    "    \"\"\"\n",
    "    try:\n",
    "        connection = mysql.connector.connect(\n",
    "            host = host_name,\n",
    "            user=user_name,\n",
    "            passwd=user_password\n",
    "        )\n",
    "        print(\"MySQL Database connection successful\")\n",
    "    except Error as err:\n",
    "        print(f\"Error: '{err}'\")\n",
    "    return connection\n",
    "create_server_connection(\"eugene\", \"eugene\",\"23334\")"
   ]
  }
 ],
 "metadata": {
  "kernelspec": {
   "display_name": "Python 3",
   "language": "python",
   "name": "python3"
  },
  "language_info": {
   "codemirror_mode": {
    "name": "ipython",
    "version": 3
   },
   "file_extension": ".py",
   "mimetype": "text/x-python",
   "name": "python",
   "nbconvert_exporter": "python",
   "pygments_lexer": "ipython3",
   "version": "3.8.8"
  }
 },
 "nbformat": 4,
 "nbformat_minor": 5
}
