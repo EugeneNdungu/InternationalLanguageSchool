{
 "cells": [
  {
   "cell_type": "code",
   "execution_count": 6,
   "id": "c4649d7e",
   "metadata": {},
   "outputs": [
    {
     "data": {
      "text/plain": [
       "'\\nThe program below is a tutorial program used to learn how to connect python with SQL.\\nIt is based on work done by:\\n    Craig Dickson< https://www.freecodecamp.org/news/connect-python-with-sql/ >\\n'"
      ]
     },
     "execution_count": 6,
     "metadata": {},
     "output_type": "execute_result"
    }
   ],
   "source": [
    "\"\"\"\n",
    "The program below is a tutorial program used to learn how to connect python with SQL.\n",
    "It is based on work done by:\n",
    "    Craig Dickson< https://www.freecodecamp.org/news/connect-python-with-sql/ >\n",
    "\"\"\""
   ]
  },
  {
   "cell_type": "code",
   "execution_count": 5,
   "id": "d95863a5",
   "metadata": {},
   "outputs": [
    {
     "name": "stdout",
     "output_type": "stream",
     "text": [
      "MySQL Database connection successful\n"
     ]
    }
   ],
   "source": [
    "# 1. Connecting to MySQL Server\n",
    "import mysql.connector # Python library used to connect the script to our MySQL server\n",
    "from mysql.connector import Error # Provides easy access to the error function\n",
    "import pandas as pd # Python library used for data analysis\n",
    "\n",
    "def create_server_connection(host_name, user_name, user_password):\n",
    "    \"\"\"\n",
    "    This function lets us establish a connection to our server\n",
    "    \"\"\"\n",
    "    connection = None # Closes any existibng connections so that the sever doesn't become confused with multiple open connections\n",
    "    try:\n",
    "        connection = mysql.connector.connect(\n",
    "            host = host_name,\n",
    "            user=user_name,\n",
    "            passwd=user_password\n",
    "        )\n",
    "        print(\"MySQL Database connection successful\")\n",
    "    except Error as err:\n",
    "        print(f\"Error: '{err}'\")\n",
    "    return connection\n",
    "pw = \"#Cheng0469\"\n",
    "connection = create_server_connection(\"localhost\",\"root\", pw)"
   ]
  },
  {
   "cell_type": "code",
   "execution_count": 7,
   "id": "4856e088",
   "metadata": {},
   "outputs": [
    {
     "name": "stdout",
     "output_type": "stream",
     "text": [
      "Database created successfully\n"
     ]
    }
   ],
   "source": [
    "# 2. Creating a New Database\n",
    "def create_database(connection, query):\n",
    "    \"\"\"\n",
    "    This function takes two arguments, a connection and a query, \n",
    "    executing the query in the server via the connection.\n",
    "    \"\"\"\n",
    "    cursor = connection.cursor()\n",
    "    try:\n",
    "        cursor.execute(query)\n",
    "        print(\"Database created successfully\")\n",
    "    except Error as err:\n",
    "        print(f\"Error: '{err}'\") \n",
    "# Initialize query to create our database\n",
    "create_database_query = \"CREATE DATABASE school\"\n",
    "# Create our database\n",
    "create_database(connection, create_database_query)"
   ]
  }
 ],
 "metadata": {
  "kernelspec": {
   "display_name": "Python 3",
   "language": "python",
   "name": "python3"
  },
  "language_info": {
   "codemirror_mode": {
    "name": "ipython",
    "version": 3
   },
   "file_extension": ".py",
   "mimetype": "text/x-python",
   "name": "python",
   "nbconvert_exporter": "python",
   "pygments_lexer": "ipython3",
   "version": "3.8.8"
  }
 },
 "nbformat": 4,
 "nbformat_minor": 5
}
